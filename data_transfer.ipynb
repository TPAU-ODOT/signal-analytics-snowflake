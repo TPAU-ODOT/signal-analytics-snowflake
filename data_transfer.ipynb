{
 "cells": [
  {
   "cell_type": "markdown",
   "id": "48d812b9",
   "metadata": {},
   "source": []
  },
  {
   "cell_type": "markdown",
   "id": "cb721c5c",
   "metadata": {},
   "source": [
    "# Transfering Data to Snowflake"
   ]
  },
  {
   "cell_type": "code",
   "execution_count": 1,
   "id": "7a2f1c7d",
   "metadata": {},
   "outputs": [],
   "source": [
    "import os\n",
    "import json\n",
    "from snowflake.snowpark.session import Session\n",
    "\n",
    "params = json.loads(os.environ.get(\"SNOWFLAKE_CONNECTION\"))\n",
    "session = Session.builder.configs(params).create()"
   ]
  },
  {
   "cell_type": "code",
   "execution_count": null,
   "id": "659e9018",
   "metadata": {},
   "outputs": [],
   "source": [
    "import json\n",
    "from pathlib import Path\n",
    "\n",
    "GEOJSON_PATH = \"path/to/your_file.geojson\"   # <- edit this\n",
    "TABLE = \"XD_GEOM\"                           # existing table\n"
   ]
  }
 ],
 "metadata": {
  "kernelspec": {
   "display_name": "Python 3",
   "language": "python",
   "name": "python3"
  },
  "language_info": {
   "codemirror_mode": {
    "name": "ipython",
    "version": 3
   },
   "file_extension": ".py",
   "mimetype": "text/x-python",
   "name": "python",
   "nbconvert_exporter": "python",
   "pygments_lexer": "ipython3",
   "version": "3.11.1"
  }
 },
 "nbformat": 4,
 "nbformat_minor": 5
}

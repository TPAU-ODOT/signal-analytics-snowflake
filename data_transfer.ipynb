{
 "cells": [
  {
   "cell_type": "markdown",
   "id": "48d812b9",
   "metadata": {},
   "source": []
  },
  {
   "cell_type": "markdown",
   "id": "cb721c5c",
   "metadata": {},
   "source": [
    "# Transfering Data to Snowflake"
   ]
  },
  {
   "cell_type": "code",
   "execution_count": null,
   "id": "7a2f1c7d",
   "metadata": {},
   "outputs": [],
   "source": [
    "import os\n",
    "import json\n",
    "from pathlib import Path\n",
    "import geopandas as gpd\n",
    "from snowflake.snowpark.session import Session\n",
    "from snowflake.snowpark.types import StructType, StructField, IntegerType, StringType\n",
    "\n",
    "params = json.loads(os.environ.get(\"SNOWFLAKE_CONNECTION\"))\n",
    "session = Session.builder.configs(params).create()"
   ]
  },
  {
   "cell_type": "code",
   "execution_count": 29,
   "id": "659e9018",
   "metadata": {},
   "outputs": [
    {
     "data": {
      "text/html": [
       "<div>\n",
       "<style scoped>\n",
       "    .dataframe tbody tr th:only-of-type {\n",
       "        vertical-align: middle;\n",
       "    }\n",
       "\n",
       "    .dataframe tbody tr th {\n",
       "        vertical-align: top;\n",
       "    }\n",
       "\n",
       "    .dataframe thead th {\n",
       "        text-align: right;\n",
       "    }\n",
       "</style>\n",
       "<table border=\"1\" class=\"dataframe\">\n",
       "  <thead>\n",
       "    <tr style=\"text-align: right;\">\n",
       "      <th></th>\n",
       "      <th>XD</th>\n",
       "      <th>WKT</th>\n",
       "    </tr>\n",
       "  </thead>\n",
       "  <tbody>\n",
       "    <tr>\n",
       "      <th>0</th>\n",
       "      <td>1236851456</td>\n",
       "      <td>POLYGON ((-123.84950293892057 46.1909069870806...</td>\n",
       "    </tr>\n",
       "    <tr>\n",
       "      <th>1</th>\n",
       "      <td>1236985053</td>\n",
       "      <td>POLYGON ((-123.17054104678215 44.1032762677248...</td>\n",
       "    </tr>\n",
       "    <tr>\n",
       "      <th>2</th>\n",
       "      <td>448854484</td>\n",
       "      <td>POLYGON ((-124.05812470345623 44.6346007743394...</td>\n",
       "    </tr>\n",
       "    <tr>\n",
       "      <th>3</th>\n",
       "      <td>484487649</td>\n",
       "      <td>POLYGON ((-123.19796626496156 45.2122194198096...</td>\n",
       "    </tr>\n",
       "    <tr>\n",
       "      <th>4</th>\n",
       "      <td>385980703</td>\n",
       "      <td>POLYGON ((-123.34827999811587 42.4224262637362...</td>\n",
       "    </tr>\n",
       "    <tr>\n",
       "      <th>...</th>\n",
       "      <td>...</td>\n",
       "      <td>...</td>\n",
       "    </tr>\n",
       "    <tr>\n",
       "      <th>16063</th>\n",
       "      <td>448855840</td>\n",
       "      <td>POLYGON ((-123.04214614172004 44.0768505441109...</td>\n",
       "    </tr>\n",
       "    <tr>\n",
       "      <th>16064</th>\n",
       "      <td>1236852335</td>\n",
       "      <td>POLYGON ((-122.83289018085857 45.4476262638553...</td>\n",
       "    </tr>\n",
       "    <tr>\n",
       "      <th>16065</th>\n",
       "      <td>448835420</td>\n",
       "      <td>POLYGON ((-122.82601626463054 45.4608324528451...</td>\n",
       "    </tr>\n",
       "    <tr>\n",
       "      <th>16066</th>\n",
       "      <td>385766005</td>\n",
       "      <td>POLYGON ((-122.56006557258574 45.4247273686460...</td>\n",
       "    </tr>\n",
       "    <tr>\n",
       "      <th>16067</th>\n",
       "      <td>385761628</td>\n",
       "      <td>POLYGON ((-122.64672196320831 45.3690883321096...</td>\n",
       "    </tr>\n",
       "  </tbody>\n",
       "</table>\n",
       "<p>16068 rows × 2 columns</p>\n",
       "</div>"
      ],
      "text/plain": [
       "               XD                                                WKT\n",
       "0      1236851456  POLYGON ((-123.84950293892057 46.1909069870806...\n",
       "1      1236985053  POLYGON ((-123.17054104678215 44.1032762677248...\n",
       "2       448854484  POLYGON ((-124.05812470345623 44.6346007743394...\n",
       "3       484487649  POLYGON ((-123.19796626496156 45.2122194198096...\n",
       "4       385980703  POLYGON ((-123.34827999811587 42.4224262637362...\n",
       "...           ...                                                ...\n",
       "16063   448855840  POLYGON ((-123.04214614172004 44.0768505441109...\n",
       "16064  1236852335  POLYGON ((-122.83289018085857 45.4476262638553...\n",
       "16065   448835420  POLYGON ((-122.82601626463054 45.4608324528451...\n",
       "16066   385766005  POLYGON ((-122.56006557258574 45.4247273686460...\n",
       "16067   385761628  POLYGON ((-122.64672196320831 45.3690883321096...\n",
       "\n",
       "[16068 rows x 2 columns]"
      ]
     },
     "execution_count": 29,
     "metadata": {},
     "output_type": "execute_result"
    }
   ],
   "source": [
    "GEOJSON_PATH = \"ODOT_Data/dim_signal_XD.geojson\"\n",
    "TABLE = \"XD_GEOM\"\n",
    "\n",
    "gdf = gpd.read_file(GEOJSON_PATH)\n",
    "# ensure lon/lat WGS84\n",
    "gdf = gdf.to_crs(epsg=4326)\n",
    "# convert geometry to WKT for sql query\n",
    "gdf['WKT'] = gdf['geometry'].apply(lambda g: g.wkt)\n",
    "gdf = gdf[['XD', 'WKT']]\n",
    "gdf"
   ]
  },
  {
   "cell_type": "code",
   "execution_count": 32,
   "id": "8d82a9ea",
   "metadata": {},
   "outputs": [],
   "source": [
    "# prepare data\n",
    "data = [(int(row['XD']), row['WKT']) for _, row in gdf.iterrows()]\n",
    "schema = StructType([\n",
    "    StructField(\"XD\", IntegerType()),\n",
    "    StructField(\"WKT\", StringType())\n",
    "])\n",
    "\n",
    "# create Snowpark DataFrame\n",
    "df = session.create_dataframe(data, schema)\n",
    "\n",
    "# insert with TO_GEOGRAPHY\n",
    "from snowflake.snowpark import functions as F\n",
    "df = df.with_column(\"GEOM\", F.sql_expr(\"TO_GEOGRAPHY(WKT)\")).drop(\"WKT\")\n",
    "df.write.save_as_table(\"XD_GEOM\", mode=\"truncate\") # overwrite existing table"
   ]
  }
 ],
 "metadata": {
  "kernelspec": {
   "display_name": "Python 3",
   "language": "python",
   "name": "python3"
  },
  "language_info": {
   "codemirror_mode": {
    "name": "ipython",
    "version": 3
   },
   "file_extension": ".py",
   "mimetype": "text/x-python",
   "name": "python",
   "nbconvert_exporter": "python",
   "pygments_lexer": "ipython3",
   "version": "3.11.1"
  }
 },
 "nbformat": 4,
 "nbformat_minor": 5
}
